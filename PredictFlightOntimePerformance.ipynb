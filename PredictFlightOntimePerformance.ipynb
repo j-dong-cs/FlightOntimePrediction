{
  "cells": [
    {
      "metadata": {
        "trusted": true
      },
      "cell_type": "code",
      "source": "import pandas as pd\n# Read flight data from spreadsheet to 'pandas' model\n# read_csv returns a DataFrame (two-D data structure with labeled axes)\nflight_data = pd.read_csv('ONTIME_FLIGHT_DATA.csv')\nflight_data.head()",
      "execution_count": 1,
      "outputs": [
        {
          "output_type": "execute_result",
          "execution_count": 1,
          "data": {
            "text/html": "<div>\n<style scoped>\n    .dataframe tbody tr th:only-of-type {\n        vertical-align: middle;\n    }\n\n    .dataframe tbody tr th {\n        vertical-align: top;\n    }\n\n    .dataframe thead th {\n        text-align: right;\n    }\n</style>\n<table border=\"1\" class=\"dataframe\">\n  <thead>\n    <tr style=\"text-align: right;\">\n      <th></th>\n      <th>YEAR</th>\n      <th>MONTH</th>\n      <th>DAY_OF_MONTH</th>\n      <th>DAY_OF_WEEK</th>\n      <th>ORIGIN_AIRPORT_ID</th>\n      <th>ORIGIN_AIRPORT_SEQ_ID</th>\n      <th>ORIGIN_CITY_MARKET_ID</th>\n      <th>ORIGIN</th>\n      <th>DEST_AIRPORT_ID</th>\n      <th>DEST_AIRPORT_SEQ_ID</th>\n      <th>DEST_CITY_MARKET_ID</th>\n      <th>DEST</th>\n      <th>CRS_DEP_TIME</th>\n      <th>ARR_DELAY_NEW</th>\n      <th>ARR_DEL15</th>\n      <th>Unnamed: 15</th>\n    </tr>\n  </thead>\n  <tbody>\n    <tr>\n      <th>0</th>\n      <td>2019</td>\n      <td>1</td>\n      <td>19</td>\n      <td>6</td>\n      <td>13487</td>\n      <td>1348702</td>\n      <td>31650</td>\n      <td>MSP</td>\n      <td>11193</td>\n      <td>1119302</td>\n      <td>33105</td>\n      <td>CVG</td>\n      <td>1556</td>\n      <td>0.0</td>\n      <td>0.0</td>\n      <td>NaN</td>\n    </tr>\n    <tr>\n      <th>1</th>\n      <td>2019</td>\n      <td>1</td>\n      <td>20</td>\n      <td>7</td>\n      <td>13487</td>\n      <td>1348702</td>\n      <td>31650</td>\n      <td>MSP</td>\n      <td>11193</td>\n      <td>1119302</td>\n      <td>33105</td>\n      <td>CVG</td>\n      <td>1556</td>\n      <td>0.0</td>\n      <td>0.0</td>\n      <td>NaN</td>\n    </tr>\n    <tr>\n      <th>2</th>\n      <td>2019</td>\n      <td>1</td>\n      <td>21</td>\n      <td>1</td>\n      <td>13487</td>\n      <td>1348702</td>\n      <td>31650</td>\n      <td>MSP</td>\n      <td>11193</td>\n      <td>1119302</td>\n      <td>33105</td>\n      <td>CVG</td>\n      <td>1556</td>\n      <td>0.0</td>\n      <td>0.0</td>\n      <td>NaN</td>\n    </tr>\n    <tr>\n      <th>3</th>\n      <td>2019</td>\n      <td>1</td>\n      <td>22</td>\n      <td>2</td>\n      <td>13487</td>\n      <td>1348702</td>\n      <td>31650</td>\n      <td>MSP</td>\n      <td>11193</td>\n      <td>1119302</td>\n      <td>33105</td>\n      <td>CVG</td>\n      <td>1556</td>\n      <td>0.0</td>\n      <td>0.0</td>\n      <td>NaN</td>\n    </tr>\n    <tr>\n      <th>4</th>\n      <td>2019</td>\n      <td>1</td>\n      <td>23</td>\n      <td>3</td>\n      <td>13487</td>\n      <td>1348702</td>\n      <td>31650</td>\n      <td>MSP</td>\n      <td>11193</td>\n      <td>1119302</td>\n      <td>33105</td>\n      <td>CVG</td>\n      <td>1556</td>\n      <td>0.0</td>\n      <td>0.0</td>\n      <td>NaN</td>\n    </tr>\n  </tbody>\n</table>\n</div>",
            "text/plain": "   YEAR  MONTH  DAY_OF_MONTH  DAY_OF_WEEK  ORIGIN_AIRPORT_ID  \\\n0  2019      1            19            6              13487   \n1  2019      1            20            7              13487   \n2  2019      1            21            1              13487   \n3  2019      1            22            2              13487   \n4  2019      1            23            3              13487   \n\n   ORIGIN_AIRPORT_SEQ_ID  ORIGIN_CITY_MARKET_ID ORIGIN  DEST_AIRPORT_ID  \\\n0                1348702                  31650    MSP            11193   \n1                1348702                  31650    MSP            11193   \n2                1348702                  31650    MSP            11193   \n3                1348702                  31650    MSP            11193   \n4                1348702                  31650    MSP            11193   \n\n   DEST_AIRPORT_SEQ_ID  DEST_CITY_MARKET_ID DEST  CRS_DEP_TIME  ARR_DELAY_NEW  \\\n0              1119302                33105  CVG          1556            0.0   \n1              1119302                33105  CVG          1556            0.0   \n2              1119302                33105  CVG          1556            0.0   \n3              1119302                33105  CVG          1556            0.0   \n4              1119302                33105  CVG          1556            0.0   \n\n   ARR_DEL15  Unnamed: 15  \n0        0.0          NaN  \n1        0.0          NaN  \n2        0.0          NaN  \n3        0.0          NaN  \n4        0.0          NaN  "
          },
          "metadata": {}
        }
      ]
    },
    {
      "metadata": {
        "trusted": true
      },
      "cell_type": "code",
      "source": "print(type(flight_data))",
      "execution_count": 2,
      "outputs": [
        {
          "output_type": "stream",
          "text": "<class 'pandas.core.frame.DataFrame'>\n",
          "name": "stdout"
        }
      ]
    },
    {
      "metadata": {},
      "cell_type": "markdown",
      "source": "# Clean Data"
    },
    {
      "metadata": {
        "trusted": true
      },
      "cell_type": "code",
      "source": "# before construct a model, need to clean data to remove null values\nflight_data.isnull().values.any()",
      "execution_count": 3,
      "outputs": [
        {
          "output_type": "execute_result",
          "execution_count": 3,
          "data": {
            "text/plain": "True"
          },
          "metadata": {}
        }
      ]
    },
    {
      "metadata": {
        "trusted": true
      },
      "cell_type": "code",
      "source": "flight_data.isnull().sum()",
      "execution_count": 4,
      "outputs": [
        {
          "output_type": "execute_result",
          "execution_count": 4,
          "data": {
            "text/plain": "YEAR                          0\nMONTH                         0\nDAY_OF_MONTH                  0\nDAY_OF_WEEK                   0\nORIGIN_AIRPORT_ID             0\nORIGIN_AIRPORT_SEQ_ID         0\nORIGIN_CITY_MARKET_ID         0\nORIGIN                        0\nDEST_AIRPORT_ID               0\nDEST_AIRPORT_SEQ_ID           0\nDEST_CITY_MARKET_ID           0\nDEST                          0\nCRS_DEP_TIME                  0\nARR_DELAY_NEW             21000\nARR_DEL15                 21000\nUnnamed: 15              638649\ndtype: int64"
          },
          "metadata": {}
        }
      ]
    },
    {
      "metadata": {
        "trusted": true
      },
      "cell_type": "code",
      "source": "flight_data = flight_data.drop('Unnamed: 15', axis=1)",
      "execution_count": 5,
      "outputs": []
    },
    {
      "metadata": {
        "trusted": true
      },
      "cell_type": "code",
      "source": "flight_data.isnull().sum()",
      "execution_count": 6,
      "outputs": [
        {
          "output_type": "execute_result",
          "execution_count": 6,
          "data": {
            "text/plain": "YEAR                         0\nMONTH                        0\nDAY_OF_MONTH                 0\nDAY_OF_WEEK                  0\nORIGIN_AIRPORT_ID            0\nORIGIN_AIRPORT_SEQ_ID        0\nORIGIN_CITY_MARKET_ID        0\nORIGIN                       0\nDEST_AIRPORT_ID              0\nDEST_AIRPORT_SEQ_ID          0\nDEST_CITY_MARKET_ID          0\nDEST                         0\nCRS_DEP_TIME                 0\nARR_DELAY_NEW            21000\nARR_DEL15                21000\ndtype: int64"
          },
          "metadata": {}
        }
      ]
    },
    {
      "metadata": {
        "trusted": true
      },
      "cell_type": "code",
      "source": "# CRS_ARR_TIME\tScheduled arrival time; ARR_DEL15\t0=Arrived less than 15 minutes late, 1=Arrived 15 minutes or more late\nflight_data = flight_data[['MONTH', 'DAY_OF_MONTH', 'DAY_OF_WEEK', 'ORIGIN', 'DEST', 'CRS_DEP_TIME', 'ARR_DEL15']]",
      "execution_count": 7,
      "outputs": []
    },
    {
      "metadata": {
        "trusted": true
      },
      "cell_type": "code",
      "source": "flight_data.isnull().sum()",
      "execution_count": 8,
      "outputs": [
        {
          "output_type": "execute_result",
          "execution_count": 8,
          "data": {
            "text/plain": "MONTH               0\nDAY_OF_MONTH        0\nDAY_OF_WEEK         0\nORIGIN              0\nDEST                0\nCRS_DEP_TIME        0\nARR_DEL15       21000\ndtype: int64"
          },
          "metadata": {}
        }
      ]
    },
    {
      "metadata": {
        "trusted": true
      },
      "cell_type": "code",
      "source": "flight_data.shape",
      "execution_count": 9,
      "outputs": [
        {
          "output_type": "execute_result",
          "execution_count": 9,
          "data": {
            "text/plain": "(638649, 7)"
          },
          "metadata": {}
        }
      ]
    },
    {
      "metadata": {
        "trusted": true
      },
      "cell_type": "code",
      "source": "flight_data = flight_data.fillna({'ARR_DEL15': 1}) # fill NA values with '1' in ARR_DEL15 column",
      "execution_count": 10,
      "outputs": []
    },
    {
      "metadata": {
        "trusted": true
      },
      "cell_type": "code",
      "source": "import numpy as np\n# In order to avoid overfitting, divide CRS_DEP_TIME:scheduled arrival time by 100 because it matters more if flight is delayed by hours rather than by a minutes\nflight_data['CRS_DEP_TIME'] = flight_data['CRS_DEP_TIME'].div(100).apply(np.floor)",
      "execution_count": 11,
      "outputs": []
    },
    {
      "metadata": {
        "trusted": true
      },
      "cell_type": "code",
      "source": "flight_data.head()",
      "execution_count": 12,
      "outputs": [
        {
          "output_type": "execute_result",
          "execution_count": 12,
          "data": {
            "text/html": "<div>\n<style scoped>\n    .dataframe tbody tr th:only-of-type {\n        vertical-align: middle;\n    }\n\n    .dataframe tbody tr th {\n        vertical-align: top;\n    }\n\n    .dataframe thead th {\n        text-align: right;\n    }\n</style>\n<table border=\"1\" class=\"dataframe\">\n  <thead>\n    <tr style=\"text-align: right;\">\n      <th></th>\n      <th>MONTH</th>\n      <th>DAY_OF_MONTH</th>\n      <th>DAY_OF_WEEK</th>\n      <th>ORIGIN</th>\n      <th>DEST</th>\n      <th>CRS_DEP_TIME</th>\n      <th>ARR_DEL15</th>\n    </tr>\n  </thead>\n  <tbody>\n    <tr>\n      <th>0</th>\n      <td>1</td>\n      <td>19</td>\n      <td>6</td>\n      <td>MSP</td>\n      <td>CVG</td>\n      <td>15.0</td>\n      <td>0.0</td>\n    </tr>\n    <tr>\n      <th>1</th>\n      <td>1</td>\n      <td>20</td>\n      <td>7</td>\n      <td>MSP</td>\n      <td>CVG</td>\n      <td>15.0</td>\n      <td>0.0</td>\n    </tr>\n    <tr>\n      <th>2</th>\n      <td>1</td>\n      <td>21</td>\n      <td>1</td>\n      <td>MSP</td>\n      <td>CVG</td>\n      <td>15.0</td>\n      <td>0.0</td>\n    </tr>\n    <tr>\n      <th>3</th>\n      <td>1</td>\n      <td>22</td>\n      <td>2</td>\n      <td>MSP</td>\n      <td>CVG</td>\n      <td>15.0</td>\n      <td>0.0</td>\n    </tr>\n    <tr>\n      <th>4</th>\n      <td>1</td>\n      <td>23</td>\n      <td>3</td>\n      <td>MSP</td>\n      <td>CVG</td>\n      <td>15.0</td>\n      <td>0.0</td>\n    </tr>\n  </tbody>\n</table>\n</div>",
            "text/plain": "   MONTH  DAY_OF_MONTH  DAY_OF_WEEK ORIGIN DEST  CRS_DEP_TIME  ARR_DEL15\n0      1            19            6    MSP  CVG          15.0        0.0\n1      1            20            7    MSP  CVG          15.0        0.0\n2      1            21            1    MSP  CVG          15.0        0.0\n3      1            22            2    MSP  CVG          15.0        0.0\n4      1            23            3    MSP  CVG          15.0        0.0"
          },
          "metadata": {}
        }
      ]
    },
    {
      "metadata": {
        "trusted": true
      },
      "cell_type": "code",
      "source": "# Create dummies for 'ORIGIN' and 'DEST' columns\n# These columns need to be converted into discrete columns containing indicator variables, sometimes known as \"dummy\" variables. \n# With each column containing 1s and 0s indicating whether a flight originated at the airport that the column represents. \nflight_data = pd.get_dummies(flight_data, columns=['ORIGIN', 'DEST'])\nflight_data.head()",
      "execution_count": 13,
      "outputs": [
        {
          "output_type": "execute_result",
          "execution_count": 13,
          "data": {
            "text/html": "<div>\n<style scoped>\n    .dataframe tbody tr th:only-of-type {\n        vertical-align: middle;\n    }\n\n    .dataframe tbody tr th {\n        vertical-align: top;\n    }\n\n    .dataframe thead th {\n        text-align: right;\n    }\n</style>\n<table border=\"1\" class=\"dataframe\">\n  <thead>\n    <tr style=\"text-align: right;\">\n      <th></th>\n      <th>MONTH</th>\n      <th>DAY_OF_MONTH</th>\n      <th>DAY_OF_WEEK</th>\n      <th>CRS_DEP_TIME</th>\n      <th>ARR_DEL15</th>\n      <th>ORIGIN_ABE</th>\n      <th>ORIGIN_ABI</th>\n      <th>ORIGIN_ABQ</th>\n      <th>ORIGIN_ABR</th>\n      <th>ORIGIN_ABY</th>\n      <th>...</th>\n      <th>DEST_UIN</th>\n      <th>DEST_USA</th>\n      <th>DEST_VEL</th>\n      <th>DEST_VLD</th>\n      <th>DEST_VPS</th>\n      <th>DEST_WRG</th>\n      <th>DEST_XNA</th>\n      <th>DEST_YAK</th>\n      <th>DEST_YKM</th>\n      <th>DEST_YUM</th>\n    </tr>\n  </thead>\n  <tbody>\n    <tr>\n      <th>0</th>\n      <td>1</td>\n      <td>19</td>\n      <td>6</td>\n      <td>15.0</td>\n      <td>0.0</td>\n      <td>0</td>\n      <td>0</td>\n      <td>0</td>\n      <td>0</td>\n      <td>0</td>\n      <td>...</td>\n      <td>0</td>\n      <td>0</td>\n      <td>0</td>\n      <td>0</td>\n      <td>0</td>\n      <td>0</td>\n      <td>0</td>\n      <td>0</td>\n      <td>0</td>\n      <td>0</td>\n    </tr>\n    <tr>\n      <th>1</th>\n      <td>1</td>\n      <td>20</td>\n      <td>7</td>\n      <td>15.0</td>\n      <td>0.0</td>\n      <td>0</td>\n      <td>0</td>\n      <td>0</td>\n      <td>0</td>\n      <td>0</td>\n      <td>...</td>\n      <td>0</td>\n      <td>0</td>\n      <td>0</td>\n      <td>0</td>\n      <td>0</td>\n      <td>0</td>\n      <td>0</td>\n      <td>0</td>\n      <td>0</td>\n      <td>0</td>\n    </tr>\n    <tr>\n      <th>2</th>\n      <td>1</td>\n      <td>21</td>\n      <td>1</td>\n      <td>15.0</td>\n      <td>0.0</td>\n      <td>0</td>\n      <td>0</td>\n      <td>0</td>\n      <td>0</td>\n      <td>0</td>\n      <td>...</td>\n      <td>0</td>\n      <td>0</td>\n      <td>0</td>\n      <td>0</td>\n      <td>0</td>\n      <td>0</td>\n      <td>0</td>\n      <td>0</td>\n      <td>0</td>\n      <td>0</td>\n    </tr>\n    <tr>\n      <th>3</th>\n      <td>1</td>\n      <td>22</td>\n      <td>2</td>\n      <td>15.0</td>\n      <td>0.0</td>\n      <td>0</td>\n      <td>0</td>\n      <td>0</td>\n      <td>0</td>\n      <td>0</td>\n      <td>...</td>\n      <td>0</td>\n      <td>0</td>\n      <td>0</td>\n      <td>0</td>\n      <td>0</td>\n      <td>0</td>\n      <td>0</td>\n      <td>0</td>\n      <td>0</td>\n      <td>0</td>\n    </tr>\n    <tr>\n      <th>4</th>\n      <td>1</td>\n      <td>23</td>\n      <td>3</td>\n      <td>15.0</td>\n      <td>0.0</td>\n      <td>0</td>\n      <td>0</td>\n      <td>0</td>\n      <td>0</td>\n      <td>0</td>\n      <td>...</td>\n      <td>0</td>\n      <td>0</td>\n      <td>0</td>\n      <td>0</td>\n      <td>0</td>\n      <td>0</td>\n      <td>0</td>\n      <td>0</td>\n      <td>0</td>\n      <td>0</td>\n    </tr>\n  </tbody>\n</table>\n<p>5 rows × 725 columns</p>\n</div>",
            "text/plain": "   MONTH  DAY_OF_MONTH  DAY_OF_WEEK  CRS_DEP_TIME  ARR_DEL15  ORIGIN_ABE  \\\n0      1            19            6          15.0        0.0           0   \n1      1            20            7          15.0        0.0           0   \n2      1            21            1          15.0        0.0           0   \n3      1            22            2          15.0        0.0           0   \n4      1            23            3          15.0        0.0           0   \n\n   ORIGIN_ABI  ORIGIN_ABQ  ORIGIN_ABR  ORIGIN_ABY    ...     DEST_UIN  \\\n0           0           0           0           0    ...            0   \n1           0           0           0           0    ...            0   \n2           0           0           0           0    ...            0   \n3           0           0           0           0    ...            0   \n4           0           0           0           0    ...            0   \n\n   DEST_USA  DEST_VEL  DEST_VLD  DEST_VPS  DEST_WRG  DEST_XNA  DEST_YAK  \\\n0         0         0         0         0         0         0         0   \n1         0         0         0         0         0         0         0   \n2         0         0         0         0         0         0         0   \n3         0         0         0         0         0         0         0   \n4         0         0         0         0         0         0         0   \n\n   DEST_YKM  DEST_YUM  \n0         0         0  \n1         0         0  \n2         0         0  \n3         0         0  \n4         0         0  \n\n[5 rows x 725 columns]"
          },
          "metadata": {}
        }
      ]
    },
    {
      "metadata": {},
      "cell_type": "markdown",
      "source": "# Build Machine Learning Model"
    },
    {
      "metadata": {
        "trusted": true
      },
      "cell_type": "code",
      "source": "import math\nflight_data_first_quarter = flight_data[: math.floor(len(flight_data.index)/4)]\nflight_data_first_quarter.shape",
      "execution_count": 14,
      "outputs": [
        {
          "output_type": "execute_result",
          "execution_count": 14,
          "data": {
            "text/plain": "(159662, 725)"
          },
          "metadata": {}
        }
      ]
    },
    {
      "metadata": {
        "trusted": true
      },
      "cell_type": "code",
      "source": "from sklearn.model_selection import train_test_split\n# Split DataFrame: flight data into a training set containing 80% of the original data, and a test set containing the remaining 20%\n# The random_state parameter seeds the random-number generator used to do the splitting, while the first and second parameters are DataFrames containing the feature columns and the label column.\ntrain_x, test_x, train_y, test_y = train_test_split(flight_data_first_quarter.drop('ARR_DEL15', axis=1), flight_data_first_quarter['ARR_DEL15'], test_size=0.2, random_state=42)",
      "execution_count": 15,
      "outputs": []
    },
    {
      "metadata": {
        "trusted": true
      },
      "cell_type": "code",
      "source": "train_x.shape",
      "execution_count": 16,
      "outputs": [
        {
          "output_type": "execute_result",
          "execution_count": 16,
          "data": {
            "text/plain": "(127729, 724)"
          },
          "metadata": {}
        }
      ]
    },
    {
      "metadata": {
        "trusted": true
      },
      "cell_type": "code",
      "source": "train_y.shape",
      "execution_count": 17,
      "outputs": [
        {
          "output_type": "execute_result",
          "execution_count": 17,
          "data": {
            "text/plain": "(127729,)"
          },
          "metadata": {}
        }
      ]
    },
    {
      "metadata": {
        "trusted": true
      },
      "cell_type": "code",
      "source": "test_x.shape",
      "execution_count": 18,
      "outputs": [
        {
          "output_type": "execute_result",
          "execution_count": 18,
          "data": {
            "text/plain": "(31933, 724)"
          },
          "metadata": {}
        }
      ]
    },
    {
      "metadata": {
        "trusted": true
      },
      "cell_type": "code",
      "source": "test_y.shape",
      "execution_count": 19,
      "outputs": [
        {
          "output_type": "execute_result",
          "execution_count": 19,
          "data": {
            "text/plain": "(31933,)"
          },
          "metadata": {}
        }
      ]
    },
    {
      "metadata": {},
      "cell_type": "markdown",
      "source": "# Train a classification model"
    },
    {
      "metadata": {
        "trusted": true
      },
      "cell_type": "code",
      "source": "# In this project predicting the probability of a flight will deplay, model will be a binary classification model that predicts \n# whether a flight will arrive on-time or late (\"binary\" because there are only two possible outputs).\n# Use RandomForestClassifier which fits multiple decision trees to the data and uses averaging to boost the overall accuracy and limit overfitting.\nfrom sklearn.ensemble import RandomForestClassifier",
      "execution_count": 20,
      "outputs": []
    },
    {
      "metadata": {
        "trusted": true
      },
      "cell_type": "code",
      "source": "from sklearn.metrics import mean_absolute_error\ndef get_mae(max_leaf_nodes, n_estimators, train_x, test_x, train_y, test_y):\n    model = RandomForestClassifier(max_leaf_nodes=max_leaf_nodes, n_estimators=n_estimators, random_state=3)\n    model.fit(train_x, train_y)\n    preds_val = model.predict(test_x)\n    mae = mean_absolute_error(test_y, preds_val)\n    return(mae)",
      "execution_count": 21,
      "outputs": []
    },
    {
      "metadata": {
        "trusted": true
      },
      "cell_type": "code",
      "source": "# compare MAE with differing values of max_leaf_nodes\nscores = {leaf_size: get_mae(leaf_size, 10, train_x, test_x, train_y, test_y) for leaf_size in [500, 1000, 2000, 2500, 5000, 10000, 20000, 30000, 50000]}",
      "execution_count": 31,
      "outputs": []
    },
    {
      "metadata": {
        "trusted": true
      },
      "cell_type": "code",
      "source": "best_tree_size = min(scores, key=scores.get)\nprint(best_tree_size)",
      "execution_count": 32,
      "outputs": [
        {
          "output_type": "stream",
          "text": "10000\n",
          "name": "stdout"
        }
      ]
    },
    {
      "metadata": {
        "trusted": true
      },
      "cell_type": "code",
      "source": "tree_scores = {num_of_trees: get_mae(best_tree_size, num_of_trees, train_x, test_x, train_y, test_y) for num_of_trees in [10, 20, 30, 50, 60, 100]}",
      "execution_count": 38,
      "outputs": []
    },
    {
      "metadata": {
        "trusted": true
      },
      "cell_type": "code",
      "source": "best_tree_num = min(tree_scores, key=tree_scores.get)\nprint(best_tree_num)",
      "execution_count": 39,
      "outputs": [
        {
          "output_type": "stream",
          "text": "50\n",
          "name": "stdout"
        }
      ]
    },
    {
      "metadata": {
        "trusted": true
      },
      "cell_type": "code",
      "source": "# 'n_estimators' is the number of trees in the forest\nmodel = RandomForestClassifier(random_state=3, max_leaf_nodes=best_tree_size, n_estimators=best_tree_num)\nmodel.fit(train_x, train_y)",
      "execution_count": 40,
      "outputs": [
        {
          "output_type": "execute_result",
          "execution_count": 40,
          "data": {
            "text/plain": "RandomForestClassifier(bootstrap=True, class_weight=None, criterion='gini',\n            max_depth=None, max_features='auto', max_leaf_nodes=10000,\n            min_impurity_decrease=0.0, min_impurity_split=None,\n            min_samples_leaf=1, min_samples_split=2,\n            min_weight_fraction_leaf=0.0, n_estimators=50, n_jobs=None,\n            oob_score=False, random_state=3, verbose=0, warm_start=False)"
          },
          "metadata": {}
        }
      ]
    },
    {
      "metadata": {
        "trusted": true
      },
      "cell_type": "code",
      "source": "predicted = model.predict(test_x)\nmodel.score(test_x, test_y)",
      "execution_count": 41,
      "outputs": [
        {
          "output_type": "execute_result",
          "execution_count": 41,
          "data": {
            "text/plain": "0.8210628503429055"
          },
          "metadata": {}
        }
      ]
    },
    {
      "metadata": {
        "trusted": true
      },
      "cell_type": "code",
      "source": "# One of the best overall measures for a binary classification model is Area Under Receiver Operating Characteristic Curve\n# (sometimes referred to as \"ROC AUC\"), which essentially quantifies how often the model will make a correct prediction \n# regardless of the outcome. \n# Compute an ROC AUC score for the model\n\nfrom sklearn.metrics import roc_auc_score\nprobabilities = model.predict_proba(test_x)",
      "execution_count": 42,
      "outputs": []
    },
    {
      "metadata": {
        "trusted": true
      },
      "cell_type": "code",
      "source": "roc_auc_score(test_y, probabilities[:, 1])",
      "execution_count": 43,
      "outputs": [
        {
          "output_type": "execute_result",
          "execution_count": 43,
          "data": {
            "text/plain": "0.7638784856474098"
          },
          "metadata": {}
        }
      ]
    },
    {
      "metadata": {
        "trusted": true
      },
      "cell_type": "code",
      "source": "# The output from the score method reflects how many of the items in the test set the model predicted correctly. \n# This score is skewed by the fact that the dataset the model was trained and tested with contains \n# many more rows representing on-time arrivals than rows representing late arrivals. \n# Because of this imbalance in the data, it's more likely to be correct if you predict that a flight will be on time than if you predict that a flight will be late.\n# ROC AUC takes this into account and provides a more accurate indication of how likely it is that a prediction of on-time or late will be correct.",
      "execution_count": 44,
      "outputs": []
    },
    {
      "metadata": {},
      "cell_type": "markdown",
      "source": "# Confusion Matrix"
    },
    {
      "metadata": {
        "trusted": true
      },
      "cell_type": "code",
      "source": "# The confusion matrix quantifies the number of times each answer \n# was classified correctly or incorrectly. Specifically, it quantifies the \n# number of false positives, false negatives, true positives, and true negatives.",
      "execution_count": 45,
      "outputs": []
    },
    {
      "metadata": {
        "trusted": true
      },
      "cell_type": "code",
      "source": "from sklearn.metrics import confusion_matrix\nconfusion_matrix(test_y, predicted)",
      "execution_count": 46,
      "outputs": [
        {
          "output_type": "execute_result",
          "execution_count": 46,
          "data": {
            "text/plain": "array([[24424,   476],\n       [ 5238,  1795]])"
          },
          "metadata": {}
        }
      ]
    },
    {
      "metadata": {},
      "cell_type": "markdown",
      "source": "# Precison and Recall"
    },
    {
      "metadata": {
        "trusted": true
      },
      "cell_type": "code",
      "source": "from sklearn.metrics import precision_score\n\ntrain_predictions = model.predict(train_x)\nprecision_score(train_y, train_predictions)",
      "execution_count": 47,
      "outputs": [
        {
          "output_type": "execute_result",
          "execution_count": 47,
          "data": {
            "text/plain": "0.972072952287901"
          },
          "metadata": {}
        }
      ]
    },
    {
      "metadata": {
        "trusted": true
      },
      "cell_type": "code",
      "source": "from sklearn.metrics import recall_score\n\nrecall_score(train_y, train_predictions)",
      "execution_count": 48,
      "outputs": [
        {
          "output_type": "execute_result",
          "execution_count": 48,
          "data": {
            "text/plain": "0.42060947683635724"
          },
          "metadata": {}
        }
      ]
    },
    {
      "metadata": {},
      "cell_type": "markdown",
      "source": "# Visualize Output of Model"
    },
    {
      "metadata": {
        "trusted": true
      },
      "cell_type": "code",
      "source": "%matplotlib inline\nimport matplotlib.pyplot as plt\nimport seaborn as sns\n\nsns.set()",
      "execution_count": 49,
      "outputs": []
    },
    {
      "metadata": {
        "trusted": true
      },
      "cell_type": "code",
      "source": "from sklearn.metrics import roc_curve\n\nfpr, tpr, _ = roc_curve(test_y, probabilities[:, 1])\nplt.plot(fpr, tpr)\nplt.plot([0, 1], [0, 1], color='grey', lw=1, linestyle='--')\nplt.xlabel('False Positive Rate')\nplt.ylabel('True Positive Rate')",
      "execution_count": 50,
      "outputs": [
        {
          "output_type": "execute_result",
          "execution_count": 50,
          "data": {
            "text/plain": "Text(0, 0.5, 'True Positive Rate')"
          },
          "metadata": {}
        },
        {
          "output_type": "display_data",
          "data": {
            "image/png": "[encoded data removed]",
            "text/plain": "<Figure size 432x288 with 1 Axes>"
          },
          "metadata": {
            "needs_background": "light"
          }
        }
      ]
    },
    {
      "metadata": {
        "trusted": true
      },
      "cell_type": "code",
      "source": "def insertCode(origin, destinatation):\n    origin = 'ORIGIN_' + origin\n    destinatation = 'DEST_' + destinatation\n    # Create a dict of airports with initial value 0\n    airportDict = {}\n    for code in train_x.columns.tolist()[4:]:\n        airportDict[code] = 0\n    airportDict[origin] = 1\n    airportDict[destinatation] = 1\n    return airportDict",
      "execution_count": 51,
      "outputs": []
    },
    {
      "metadata": {
        "trusted": true
      },
      "cell_type": "code",
      "source": "def predict_delay(departure_date_time, origin, destination):\n    from datetime import datetime\n    \n    try:\n        departure_date_time_parsed = datetime.strptime(departure_date_time, '%d/%m %H:%M')\n    except ValueError as e:\n        return 'Error parsing date/time - {}'.format(e)\n    \n    month = departure_date_time_parsed.month\n    day = departure_date_time_parsed.day\n    day_of_week = departure_date_time_parsed.isoweekday()\n    hour = departure_date_time_parsed.hour\n    \n    origin = origin.upper()\n    destination = destination.upper()\n    \n    input = {'MONTH': month,\n              'DAY_OF_MONTH': day,\n              'DAY_OF_WEEK': day_of_week,\n              'CRS_DEP_TIME': hour}\n    input = [{**input, **insertCode(origin, destination)}]\n\n    return model.predict_proba(pd.DataFrame(input))[0][0]",
      "execution_count": 52,
      "outputs": []
    },
    {
      "metadata": {
        "trusted": true
      },
      "cell_type": "code",
      "source": "predict_delay('1/10 15:45', 'EWR', 'SEA')",
      "execution_count": 53,
      "outputs": [
        {
          "output_type": "execute_result",
          "execution_count": 53,
          "data": {
            "text/plain": "0.8414408368109711"
          },
          "metadata": {}
        }
      ]
    },
    {
      "metadata": {
        "trusted": true
      },
      "cell_type": "code",
      "source": "predict_delay('24/12 09:00', 'LAX', 'EWR')",
      "execution_count": 54,
      "outputs": [
        {
          "output_type": "execute_result",
          "execution_count": 54,
          "data": {
            "text/plain": "0.8827298060829265"
          },
          "metadata": {}
        }
      ]
    },
    {
      "metadata": {
        "trusted": true
      },
      "cell_type": "code",
      "source": "# flights leaving SEA for ATL at 9:00 a.m., noon, 3:00 p.m., 6:00 p.m., and 9:00 p.m. on January 30 will arrive on time\nlabels = ('9:00 a.m.', 'Noon', '3:00 p.m.', '6:00 p.m.', '9:00 p.m.')\nvalues = (predict_delay('23/12 09:00', 'EWR', 'LAX'),\n          predict_delay('23/12 12:00', 'EWR', 'LAX'),\n          predict_delay('23/12 15:45', 'EWR', 'LAX'),\n          predict_delay('23/12 18:00', 'EWR', 'LAX'),\n          predict_delay('23/12 21:00', 'EWR', 'LAX'))\nalabels = np.arange(len(labels))\n\nplt.bar(alabels, values, align='center', alpha=0.5)\nplt.xticks(alabels, labels)\nplt.ylabel('Probability of On-Time Arrival')\nplt.ylim((0.0, 1.0))",
      "execution_count": 55,
      "outputs": [
        {
          "output_type": "execute_result",
          "execution_count": 55,
          "data": {
            "text/plain": "(0.0, 1.0)"
          },
          "metadata": {}
        },
        {
          "output_type": "display_data",
          "data": {
            "image/png": "[encoded data removed]",
            "text/plain": "<Figure size 432x288 with 1 Axes>"
          },
          "metadata": {
            "needs_background": "light"
          }
        }
      ]
    },
    {
      "metadata": {
        "trusted": true
      },
      "cell_type": "code",
      "source": "labels = ('Apr 10', 'Apr 11', 'Apr 12', 'Apr 13', 'Apr 14', 'Apr 15', 'Apr 16')\nvalues = (predict_delay('10/04 13:00', 'JFK', 'MSP'),\n          predict_delay('11/04 13:00', 'JFK', 'MSP'),\n          predict_delay('12/04 13:00', 'JFK', 'MSP'),\n          predict_delay('13/04 13:00', 'JFK', 'MSP'),\n          predict_delay('14/04 13:00', 'JFK', 'MSP'),\n          predict_delay('15/04 13:00', 'JFK', 'MSP'),\n          predict_delay('16/04 13:00', 'JFK', 'MSP'))\nalabels = np.arange(len(labels))\n\nplt.bar(alabels, values, align='center', alpha=0.5)\nplt.xticks(alabels, labels)\nplt.ylabel('Probability of On-Time Arrival')\nplt.ylim((0.0, 1.0))",
      "execution_count": 56,
      "outputs": [
        {
          "output_type": "execute_result",
          "execution_count": 56,
          "data": {
            "text/plain": "(0.0, 1.0)"
          },
          "metadata": {}
        },
        {
          "output_type": "display_data",
          "data": {
            "image/png": "[encoded data removed]",
            "text/plain": "<Figure size 432x288 with 1 Axes>"
          },
          "metadata": {
            "needs_background": "light"
          }
        }
      ]
    },
    {
      "metadata": {
        "trusted": true
      },
      "cell_type": "code",
      "source": "labels = ('Oct 1', 'Oct 2', 'Oct 3', 'Oct 4', 'Oct 5', 'Oct 6', 'Oct 7')\nvalues = (predict_delay('1/10 21:45', 'JFK', 'ATL'),\n          predict_delay('2/10 21:45', 'JFK', 'ATL'),\n          predict_delay('3/10 21:45', 'JFK', 'ATL'),\n          predict_delay('4/10 21:45', 'JFK', 'ATL'),\n          predict_delay('5/10 21:45', 'JFK', 'ATL'),\n          predict_delay('6/10 21:45', 'JFK', 'ATL'),\n          predict_delay('7/10 21:45', 'JFK', 'ATL'))\nalabels = np.arange(len(labels))\n\nplt.bar(alabels, values, align='center', alpha=0.5)\nplt.xticks(alabels, labels)\nplt.ylabel('Probability of On-Time Arrival')\nplt.ylim((0.0, 1.0))",
      "execution_count": 57,
      "outputs": [
        {
          "output_type": "execute_result",
          "execution_count": 57,
          "data": {
            "text/plain": "(0.0, 1.0)"
          },
          "metadata": {}
        },
        {
          "output_type": "display_data",
          "data": {
            "image/png": "[encoded data removed]",
            "text/plain": "<Figure size 432x288 with 1 Axes>"
          },
          "metadata": {
            "needs_background": "light"
          }
        }
      ]
    }
  ],
  "metadata": {
    "kernelspec": {
      "name": "python36",
      "display_name": "Python 3.6",
      "language": "python"
    },
    "widgets": {
      "application/vnd.jupyter.widget-state+json": {
        "version_major": 2,
        "version_minor": 0,
        "state": {}
      }
    },
    "language_info": {
      "mimetype": "text/x-python",
      "nbconvert_exporter": "python",
      "name": "python",
      "pygments_lexer": "ipython3",
      "version": "3.6.6",
      "file_extension": ".py",
      "codemirror_mode": {
        "version": 3,
        "name": "ipython"
      }
    }
  },
  "nbformat": 4,
  "nbformat_minor": 2
}